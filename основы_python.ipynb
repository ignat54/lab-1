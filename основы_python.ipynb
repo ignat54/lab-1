{
  "cells": [
    {
      "cell_type": "markdown",
      "metadata": {
        "id": "M-DGa20PaHnu"
      },
      "source": [
        "# Задача 1\n",
        "Написать функцию на вход которой подается строка, состоящая из латинских букв.\n",
        "Функция должна вернуть количество гласных букв (a, e, i, o, u) в этой строке. Написать тесты для кода"
      ]
    },
    {
      "cell_type": "code",
      "execution_count": 33,
      "metadata": {},
      "outputs": [],
      "source": [
        "def func(text):\n",
        "    text = text.lower()\n",
        "    count = 0\n",
        "    vowels = 'aeiou'\n",
        "    for i in text:\n",
        "        if i in vowels:\n",
        "            count += 1\n",
        "    return count\n",
        "\n",
        "def test_func():\n",
        "    assert func('acies') == 3\n",
        "    assert func('amans') == 2\n",
        "    assert func('auctor') == 3\n",
        "    assert func('exiguitas') == 5\n",
        "    assert func('Ignat') == 2\n",
        "    assert func('bcd') == 0\n",
        "    \n",
        "test_func()"
      ]
    },
    {
      "cell_type": "markdown",
      "metadata": {
        "id": "t2ClV_Y0bbr6"
      },
      "source": [
        "# Задача 2\n",
        "Написать функцию на вход, которой подается строка. Функция должна вернуть true, если\n",
        "каждый символ в строке встречается только 1 раз, иначе должна вернуть false. Написать тесты для кода"
      ]
    },
    {
      "cell_type": "code",
      "execution_count": 41,
      "metadata": {
        "id": "FppbECao6VIz"
      },
      "outputs": [],
      "source": [
        "def func(text):\n",
        "    fl = True\n",
        "    for i in text:\n",
        "        if text.count(i) != 1:\n",
        "            fl = False\n",
        "            break\n",
        "    return fl\n",
        "\n",
        "def test_func():\n",
        "    assert func('ignat') == True\n",
        "    assert func('Мамонт') == True\n",
        "    assert func('игнат') == True\n",
        "    assert func('123456789') == True\n",
        "    assert func('!!!') == False \n",
        "    assert func('слово') == False \n",
        "    assert func('буква') == True\n",
        "    assert func('apple') == False\n",
        "\n",
        "test_func()"
      ]
    },
    {
      "cell_type": "markdown",
      "metadata": {
        "id": "udRiIK1cdt6E"
      },
      "source": [
        "# Задача 3\n",
        "Написать функцию, которая принимает положительное число и возвращает количество\n",
        "бит равных 1 в этом числе. Написать тесты для кода"
      ]
    },
    {
      "cell_type": "code",
      "execution_count": 54,
      "metadata": {
        "id": "6tkfDJRz6dp_"
      },
      "outputs": [],
      "source": [
        "def func(number):\n",
        "    binary = bin(number)\n",
        "    return binary.count('1')\n",
        "\n",
        "def test_func():\n",
        "    assert func(100) == 3\n",
        "    assert func(342) == 5\n",
        "    assert func(1) == 1\n",
        "    assert func(1000000) == 7\n",
        "    assert func(111) == 6\n",
        "\n",
        "test_func()"
      ]
    },
    {
      "cell_type": "markdown",
      "metadata": {
        "id": "26dDUz-Ae17N"
      },
      "source": [
        "# Задача 4\n",
        "Написать функцию, которая принимает положительное число. Функция должна вернуть то,\n",
        "сколько раз необходимо перемножать цифры числа или результат перемножения, чтобы\n",
        "получилось число состоящее из одной цифры.\n",
        "Например, для входного числа:\n",
        "· 39 функция должна вернуть 3, так как 3*9=27 => 2*7=14 => 1*4=4\n",
        "· 4 функция должна вернуть 0, так как число уже состоит из одной цифры\n",
        "· 999 функция должна вернуть 4, так как 9*9*9=729 => 7*2*9=126 => 1*2*6=12 =>\n",
        "1*2=2. Написать тесты для кода"
      ]
    },
    {
      "cell_type": "code",
      "execution_count": 59,
      "metadata": {
        "id": "BH1A_Mgi6i4G"
      },
      "outputs": [],
      "source": [
        "def magic(n):\n",
        "    count = 0\n",
        "    while n > 9:\n",
        "        copy = str(n)\n",
        "        product = 1\n",
        "        for i in copy:\n",
        "            product *= int(i)\n",
        "        n = product\n",
        "        count += 1\n",
        "    return count\n",
        "\n",
        "def test_magic():\n",
        "    assert magic(39) == 3\n",
        "    assert magic(4) == 0\n",
        "    assert magic(999) == 4\n",
        "    assert magic(100) == 1\n",
        "    assert magic(333) == 3\n",
        "\n",
        "test_magic()"
      ]
    },
    {
      "cell_type": "markdown",
      "metadata": {
        "id": "0nS-kIa8g8vd"
      },
      "source": [
        "# Задача 5\n",
        "Написать функцию, которая принимает два целочисленных вектора одинаковой длины и\n",
        "возвращает среднеквадратическое отклонение двух векторов. Написать тесты для кода"
      ]
    },
    {
      "cell_type": "code",
      "execution_count": 82,
      "metadata": {
        "id": "8iphx4LM6xbx"
      },
      "outputs": [],
      "source": [
        "def mse(pred, true):\n",
        "    square_sum_diff = 0\n",
        "    for i in range(len(pred)):\n",
        "        square_sum_diff += (pred[i] - true[i]) ** 2\n",
        "    return (square_sum_diff / len(pred)) ** 0.5\n",
        "\n",
        "def test_mse():\n",
        "    assert mse([1, 2, 3], [4, 5, 6]) == 3\n",
        "    assert mse([1, 2, 3], [1, 2, 3]) == 0\n",
        "\n",
        "test_mse()"
      ]
    },
    {
      "cell_type": "markdown",
      "metadata": {
        "id": "vpIPKL439zkw"
      },
      "source": [
        "# Задача 6\n",
        "Написать функцию, принимающая целое положительное число. Функция должна вернуть\n",
        "строку вида “(n1**p1)(n2**p2)…(nk**pk)” представляющая разложение числа на простые\n",
        "множители (если pi == 1, то выводить только ni).\n",
        "Например, для числа 86240 функция должна вернуть “(2**5)(5)(7**2)(11)”. Написать тесты для кода"
      ]
    },
    {
      "cell_type": "code",
      "execution_count": 98,
      "metadata": {
        "id": "pFebmcZk94Jw"
      },
      "outputs": [],
      "source": [
        "def func(number):\n",
        "    d = {}\n",
        "    answer = ''\n",
        "    simple_div = []\n",
        "    for i in range(2, number+1):\n",
        "        if simple(i):\n",
        "            simple_div.append(i)\n",
        "    for i in simple_div:\n",
        "        while number % i == 0:\n",
        "            if i not in d.keys():\n",
        "                d[i] = 1\n",
        "            else:\n",
        "                d[i] += 1\n",
        "            number //= i\n",
        "    for key in d.keys():\n",
        "        if d[key] == 1:\n",
        "            answer += f'({key})'\n",
        "        else:\n",
        "            answer += f'({key}**{d[key]})'\n",
        "    return answer\n",
        "\n",
        "def simple(number):\n",
        "    count = 0\n",
        "    for i in range(2, int(number**0.5)+1):\n",
        "        if number % i == 0:\n",
        "            count += 1\n",
        "    if count == 0:\n",
        "        return True\n",
        "    else:\n",
        "        return False\n",
        "    \n",
        "def test_func():\n",
        "    assert func(86240) == '(2**5)(5)(7**2)(11)'\n",
        "    assert func(84) == '(2**2)(3)(7)'\n",
        "    assert func(100) == '(2**2)(5**2)'\n",
        "\n",
        "test_func()\n"
      ]
    },
    {
      "cell_type": "markdown",
      "metadata": {
        "id": "ps2s0BudX7A2"
      },
      "source": [
        "# Задача 7\n",
        "Написать функцию, принимающая целое число n, задающее количество кубиков. Функция\n",
        "должна определить, можно ли из данного кол-ва кубиков построить пирамиду, то есть\n",
        "можно ли представить число n как 1^2+2^2+3^2+…+k^2. Если можно, то функция должна\n",
        "вернуть k, иначе строку “It is impossible”. Написать тесты для кода"
      ]
    },
    {
      "cell_type": "code",
      "execution_count": 6,
      "metadata": {
        "id": "3YPjEXxhX_YT"
      },
      "outputs": [],
      "source": [
        "def pyramid(number):\n",
        "    if number == 0:\n",
        "        return 'It is impossible'\n",
        "    step = 4\n",
        "    inc_step = 2\n",
        "    i = 1\n",
        "    a = []\n",
        "    while i <= number:\n",
        "        a.append(i)\n",
        "        i += step\n",
        "        step += (3 + inc_step)\n",
        "        inc_step += 2\n",
        "    if number == a[-1]:\n",
        "        return len(a)\n",
        "    else:\n",
        "        return 'It is impossible'\n",
        "    \n",
        "def test_pyramid():\n",
        "    assert pyramid(1) == 1\n",
        "    assert pyramid(5) == 2\n",
        "    assert pyramid(30) == 4 \n",
        "    assert pyramid(55) == 5\n",
        "    assert pyramid(0) == 'It is impossible'\n",
        "    assert pyramid(40) == 'It is impossible'\n",
        "\n",
        "test_pyramid()"
      ]
    },
    {
      "cell_type": "markdown",
      "metadata": {
        "id": "KeKgmIdAQMEJ"
      },
      "source": [
        "# Задача 8\n",
        "Функция принимает на вход положительное число и определяет является ли оно сбалансированным, т.е. сумма цифр до средних равна сумме цифр после. Средними в случае нечетного числа цифр считать одну цифру, в случае четного - две средних. Написать тесты для кода"
      ]
    },
    {
      "cell_type": "code",
      "execution_count": 71,
      "metadata": {
        "id": "gMAAqtqlQrZt"
      },
      "outputs": [],
      "source": [
        "def func(number):\n",
        "    number = str(number)\n",
        "    left = ''\n",
        "    right = ''\n",
        "    if len(number) % 2 != 0:\n",
        "        left = number[:len(number)//2]\n",
        "        right = number[len(number)//2+1:]\n",
        "    else:\n",
        "        left = number[:len(number)//2-1]\n",
        "        right = number[len(number)//2+1:]\n",
        "    summ_left = 0\n",
        "    summ_right = 0\n",
        "    for i in range(len(left)):\n",
        "        summ_left += int(left[i])\n",
        "        summ_right += int(right[i])\n",
        "    if summ_left == summ_right:\n",
        "        return True #Сбалансированное\n",
        "    else:\n",
        "        return False #Несбалансированное\n",
        "    \n",
        "def test_func():\n",
        "    assert func(12330) == True\n",
        "    assert func(123330) == True\n",
        "    assert func(1) == True\n",
        "    assert func(12) == True\n",
        "    assert func(101) == True\n",
        "    assert func(12331) == False\n",
        " \n",
        "test_func()\n",
        "\n"
      ]
    }
  ],
  "metadata": {
    "colab": {
      "provenance": []
    },
    "kernelspec": {
      "display_name": "Python 3",
      "name": "python3"
    },
    "language_info": {
      "codemirror_mode": {
        "name": "ipython",
        "version": 3
      },
      "file_extension": ".py",
      "mimetype": "text/x-python",
      "name": "python",
      "nbconvert_exporter": "python",
      "pygments_lexer": "ipython3",
      "version": "3.11.5"
    }
  },
  "nbformat": 4,
  "nbformat_minor": 0
}
