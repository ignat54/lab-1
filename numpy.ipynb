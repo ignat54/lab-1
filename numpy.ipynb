{
  "cells": [
    {
      "cell_type": "markdown",
      "metadata": {
        "id": "vC84e9kzyxPy"
      },
      "source": [
        "<h1>Импорт библиотек"
      ]
    },
    {
      "cell_type": "code",
      "execution_count": 20,
      "metadata": {
        "id": "cgKeNegmQG5S"
      },
      "outputs": [],
      "source": [
        "import numpy as np\n",
        "import matplotlib.pyplot as plt"
      ]
    },
    {
      "cell_type": "markdown",
      "metadata": {
        "id": "qFM9uVU2x4Ls"
      },
      "source": [
        "<h1>Задача 1. Дан набор из $p$ матриц размерностью $(n, n)$ и $p$ векторов размерностью $(n, 1)$, найти сумму произведений матриц на векторы. Написать тесты для кода"
      ]
    },
    {
      "cell_type": "code",
      "execution_count": 19,
      "metadata": {
        "id": "IAbUvEiYyWFF"
      },
      "outputs": [],
      "source": [
        "def sum_prod(X, V):\n",
        "    '''\n",
        "    X - матрицы (n, n)\n",
        "    V - векторы (n, 1)\n",
        "    Гарантируется, что len(X) == len(V)\n",
        "    '''\n",
        "    result = 0\n",
        "    for matrix, vector in zip(X, V):\n",
        "        result += np.dot(matrix, vector)\n",
        "    return result\n",
        "\n",
        "def test_sum_prod():\n",
        "    X = [np.array([[1, 2], [3, 4]]), np.array([[5, 6], [7, 8]])]\n",
        "    V = [np.array([[1], [2]]), np.array([[5], [6]])]\n",
        "    assert np.array_equal(sum_prod(X, V), np.array([[66], [94]]))\n",
        "\n",
        "test_sum_prod()\n",
        "    "
      ]
    },
    {
      "cell_type": "markdown",
      "metadata": {
        "id": "TKwPG4fIy2w4"
      },
      "source": [
        "<h1>Задача 2. Дана матрица M, напишите функцию, которая бинаризует матрицу по некоторому threshold (то есть, все значения большие threshold становятся равными 1, иначе 0). Напишите тесты для кода"
      ]
    },
    {
      "cell_type": "code",
      "execution_count": 27,
      "metadata": {
        "id": "KQDNMgsjRNH7"
      },
      "outputs": [],
      "source": [
        "def binarize(M, threshold=0.5):\n",
        "    M[(M > threshold)] = 1\n",
        "    M[(M <= threshold)] = 0\n",
        "    return M\n",
        "\n",
        "def test_binarize():\n",
        "    M = np.array([[1, 2], [3, 4]])\n",
        "    assert np.array_equal(binarize(M), np.array([[1, 1], [1, 1]]))\n",
        "\n",
        "    M = np.array([[0, 0.5], [3, 0.4]])\n",
        "    assert np.array_equal(binarize(M), np.array([[0, 0], [1, 0]]))\n",
        "\n",
        "test_binarize()"
      ]
    },
    {
      "cell_type": "markdown",
      "metadata": {
        "id": "IY5L-h-7zWhN"
      },
      "source": [
        "<h1>Задача 3. Напишите функцию, которая возвращает уникальные элементы из каждой строки матрицы. Напишите такую же функцию, но для столбцов. Напишите тесты для кода"
      ]
    },
    {
      "cell_type": "code",
      "execution_count": 12,
      "metadata": {
        "id": "-8dEZhR0SBC-"
      },
      "outputs": [],
      "source": [
        "def unique_rows(mat):\n",
        "    x = mat.shape[0]\n",
        "    answer_list = []\n",
        "    for i in range(x):\n",
        "        list_unique, counts = np.unique(mat[i, :], return_counts=True)\n",
        "        d = dict(zip(list_unique, counts))\n",
        "        b = []\n",
        "        for key in d.keys():\n",
        "            if d[key] == 1:\n",
        "                b.append(key)\n",
        "        answer_list.append(b)\n",
        "    count = 1\n",
        "    text = \"\"\n",
        "    for i in range(len(answer_list)):\n",
        "        if i != len(answer_list) - 1:\n",
        "            line = ', '.join(map(str, answer_list[i]))\n",
        "            text += f\"{count}-я строка: {line}. \"\n",
        "        else:\n",
        "            line = ', '.join(map(str, answer_list[i]))\n",
        "            text += f\"{count}-я строка: {line}.\"\n",
        "        count += 1\n",
        "    return text\n",
        "\n",
        "def unique_columns(mat):\n",
        "    mat = np.transpose(mat)\n",
        "    x = mat.shape[0]\n",
        "    answer_list = []\n",
        "    for i in range(x):\n",
        "        list_unique, counts = np.unique(mat[i, :], return_counts=True)\n",
        "        d = dict(zip(list_unique, counts))\n",
        "        b = []\n",
        "        for key in d.keys():\n",
        "            if d[key] == 1:\n",
        "                b.append(key)\n",
        "        answer_list.append(b)\n",
        "    count = 1\n",
        "    text = \"\"\n",
        "    for i in range(len(answer_list)):\n",
        "        if i != len(answer_list) - 1:\n",
        "            line = ', '.join(map(str, answer_list[i]))\n",
        "            text += f\"{count}-й столбец: {line}. \"\n",
        "        else:\n",
        "            line = ', '.join(map(str, answer_list[i]))\n",
        "            text += f\"{count}-й столбец: {line}.\"\n",
        "        count += 1\n",
        "    return text\n",
        "\n",
        "\n",
        "def test_unique_rows():\n",
        "    A = np.array([[1, 2, 1, 4],\n",
        "                  [5, 5, 7, 8],\n",
        "                  [9, 10, 10, 12]])\n",
        "    assert unique_rows(A) == '1-я строка: 2, 4. 2-я строка: 7, 8. 3-я строка: 9, 12.'\n",
        "test_unique_rows()\n",
        "\n",
        "def test_unique_columns():\n",
        "    A = np.array([[10, 7, 7, 4],\n",
        "                  [5, 5, 7, 8],\n",
        "                  [5, 7, 10, 12]])\n",
        "    assert unique_columns(A) == '1-й столбец: 10. 2-й столбец: 5. 3-й столбец: 10. 4-й столбец: 4, 8, 12.'\n",
        "test_unique_columns()"
      ]
    },
    {
      "cell_type": "markdown",
      "metadata": {
        "id": "roYAlo4Jz-lH"
      },
      "source": [
        "<h1>Задача 4. Напишите функцию, которая заполняет матрицу с размерами $(m, n)$ случайными числами, распределенными по нормальному закону. Затем считает мат. ожидание и дисперсию для каждого из столбцов и строк, а также строит для каждой строки и столбца гистограмму значений (использовать функцию hist из модуля matplotlib.plot)"
      ]
    },
    {
      "cell_type": "code",
      "execution_count": 21,
      "metadata": {
        "id": "nZK_71hMSQzv"
      },
      "outputs": [],
      "source": [
        "def func(m, n):\n",
        "    matrix = np.random.normal(size=(m, n))\n",
        "    for i in range(m): #столбцы\n",
        "        mean = np.mean(matrix[i, :]) #мат ожидание\n",
        "        var = np.var(matrix[i, :]) #дисперсия\n",
        "        plt.hist(matrix[i, :])\n",
        "        plt.title(f'Histogram for row {i+1}')\n",
        "        plt.show()\n",
        "    transposed_matrix = np.transpose(matrix)\n",
        "    for i in range(n): #столбцы\n",
        "        mean = np.mean(transposed_matrix[i, :]) #мат ожидание\n",
        "        var = np.var(transposed_matrix[i, :]) #дисперсия\n",
        "        plt.hist(transposed_matrix[i, :])\n",
        "        plt.title(f'Histogram for column {i+1}')\n",
        "        plt.show()"
      ]
    },
    {
      "cell_type": "markdown",
      "metadata": {
        "id": "BDyATNdM0dJ2"
      },
      "source": [
        "<h1>Задача 5. Напишите функцию, которая заполняет матрицу $(m, n)$ в шахматном порядке заданными числами $a$ и $b$. Напишите тесты для кода"
      ]
    },
    {
      "cell_type": "code",
      "execution_count": 25,
      "metadata": {
        "id": "RWNJYWQGecS6"
      },
      "outputs": [],
      "source": [
        "def chess(m, n, a, b):\n",
        "    matrix = np.zeros((m, n))\n",
        "    for i in range(m):\n",
        "        for j in range(n):\n",
        "            if (i + j) % 2 == 0:\n",
        "                matrix[i, j] = a\n",
        "            else:\n",
        "                matrix[i, j] = b\n",
        "    return matrix\n",
        "\n",
        "def test_chess():\n",
        "    m, n, a, b = 4, 3, 7, 8\n",
        "    assert np.array_equal(chess(m, n, a, b), np.array([[7, 8, 7], [8, 7, 8], [7, 8, 7], [8, 7, 8]]))\n",
        "\n",
        "test_chess()"
      ]
    },
    {
      "cell_type": "markdown",
      "metadata": {
        "id": "-ymXLtTN0vB6"
      },
      "source": [
        "<h1>Задача 6. Напишите функцию, которая отрисовывает прямоугольник с заданными размерами (a, b) на изображении размера (m, n), цвет фона задайте в схеме RGB, как и цвет прямоугольника. Цвета также должны быть параметрами функции. Напишите аналогичную функцию но для овала с полуосями a и b. Напишите тесты для кода.\n",
        "Примечание: уравнение эллипса (границы овала) можно записать как:\n",
        "<h1>$\\frac{(x-x_0)^2}{a^2}+\\frac{(y-y_0)^2}{b^2}=1$"
      ]
    },
    {
      "cell_type": "code",
      "execution_count": null,
      "metadata": {
        "id": "sNfl1t_kfOF4"
      },
      "outputs": [],
      "source": [
        "def draw_rectangle(a, b, m, n, rectangle_color, background_color):\n",
        "    # a, m - строки\n",
        "    # b, n - столбцы\n",
        "    image = np.full((m, n, 3), background_color) #цифра 3 указывает на количество цветовых каналов\n",
        "    row_start = (m - a) // 2\n",
        "    row_end = row_start + a\n",
        "    col_start = (n - b) // 2\n",
        "    col_end = col_start + b\n",
        "    image[row_start:row_end, col_start:col_end, :] = rectangle_color\n",
        "    plt.imshow(image)\n",
        "    plt.show()\n",
        "\n",
        "def draw_ellipse(a, b, m, n, ellipse_color, background_color):\n",
        "    # a, m - строки\n",
        "    # b, n - столбцы\n",
        "    image = np.full((m, n, 3), background_color) #цифра 3 указывает на количество цветовых каналов\n",
        "    pass\n",
        "\n",
        "draw_rectangle(100, 200, 300, 400, (0, 0, 0), (255, 255, 255))"
      ]
    },
    {
      "cell_type": "markdown",
      "metadata": {
        "id": "S82c38oz244H"
      },
      "source": [
        "<h1>Задача 7. Дан некий временной ряд. Для данного ряда нужно найти его: математическое ожидание, дисперсию, СКО, найти все локальные максимумы и минимумы (локальный максимум - это точка, которая больше своих соседних точек, а локальный минимум - это точка, которая меньше своих соседей), а также вычислить для данного ряда другой ряд, получаемый методом скользящего среднего с размером окна $p$.\n",
        "<h1>Примечание: метод скользящего среднего подразумевает нахождение среднего из подмножетсва ряда размером $p$"
      ]
    },
    {
      "cell_type": "code",
      "execution_count": 62,
      "metadata": {
        "id": "Zb9mIVge5MMt"
      },
      "outputs": [
        {
          "name": "stdout",
          "output_type": "stream",
          "text": [
            "[3. 2. 4. 1.]\n",
            "[7. 8. 6.]\n"
          ]
        }
      ],
      "source": [
        "time_series = np.array([3, 5, 7, 2, 8, 4, 6, 1])\n",
        "mean = np.mean(time_series) # математическое ожидание\n",
        "var = np.var(time_series) # дисперсия\n",
        "std = np.std(time_series) # ско - среднеквадратическое отклонение\n",
        "# Находим локальные минимумы и максимумы\n",
        "local_min = np.array([])\n",
        "local_max = np.array([])\n",
        "for i in range(len(time_series)):\n",
        "    if i == 0:\n",
        "        if time_series[i] < time_series[i+1]:\n",
        "            local_min = np.append(local_min, time_series[i])\n",
        "        elif time_series[i] > time_series[i+1]:\n",
        "            local_max = np.append(local_max, time_series[i])\n",
        "    elif i == len(time_series) - 1:\n",
        "        if time_series[i] < time_series[i-1]:\n",
        "            local_min = np.append(local_min, time_series[i])\n",
        "        elif time_series[i] > time_series[i-1]:\n",
        "            local_max = np.append(local_max, time_series[i])\n",
        "    else:\n",
        "        if time_series[i] > time_series[i-1] and time_series[i] > time_series[i+1]:\n",
        "            local_max = np.append(local_max, time_series[i])\n",
        "        elif time_series[i] < time_series[i-1] and time_series[i] < time_series[i+1]:\n",
        "            local_min = np.append(local_min, time_series[i])\n",
        "print(local_min)\n",
        "print(local_max)\n",
        "\n"
      ]
    },
    {
      "cell_type": "markdown",
      "metadata": {
        "id": "jPkylmOX5O9n"
      },
      "source": [
        "<h1> Задача 8. Дан некоторый вектор с целочисленными метками классов, напишите функцию, которая выполняет one-hot-encoding для данного вектора\n",
        "<h1> One-hot-encoding - представление, в котором на месте метки некоторого класса стоит 1, в остальных позициях стоит 0. Например для вектора [0, 2, 3, 0] one-hot-encoding выглядит как: [[1, 0, 0, 0], [0, 0, 1, 0], [0, 0, 0, 1], [1, 0, 0, 0]]"
      ]
    },
    {
      "cell_type": "code",
      "execution_count": null,
      "metadata": {
        "id": "Y-jlnZvw56lD"
      },
      "outputs": [],
      "source": [
        "# Your code goes here"
      ]
    }
  ],
  "metadata": {
    "colab": {
      "provenance": []
    },
    "kernelspec": {
      "display_name": "Python 3",
      "name": "python3"
    },
    "language_info": {
      "codemirror_mode": {
        "name": "ipython",
        "version": 3
      },
      "file_extension": ".py",
      "mimetype": "text/x-python",
      "name": "python",
      "nbconvert_exporter": "python",
      "pygments_lexer": "ipython3",
      "version": "3.11.5"
    }
  },
  "nbformat": 4,
  "nbformat_minor": 0
}
